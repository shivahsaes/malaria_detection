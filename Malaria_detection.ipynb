{
  "nbformat": 4,
  "nbformat_minor": 0,
  "metadata": {
    "colab": {
      "name": "Malaria_detection.ipynb",
      "provenance": []
    },
    "kernelspec": {
      "name": "python3",
      "display_name": "Python 3"
    }
  },
  "cells": [
    {
      "cell_type": "code",
      "metadata": {
        "id": "RtpodFikE-_B",
        "colab_type": "code",
        "colab": {
          "base_uri": "https://localhost:8080/",
          "height": 225
        },
        "outputId": "467f87ab-2102-47fd-913b-311f7440d700"
      },
      "source": [
        "!wget "https://github.com/shivahsaes/malaria_detection/blob/master/Dataset.zip"
      ],
      "execution_count": null,
      "outputs": [
        {
          "output_type": "stream",
          "text": [
            "--2020-07-27 06:12:00--  https://github.com/krishnaik06/Malaria-Detection/blob/master/Dataset.zip\n",
            "Resolving github.com (github.com)... 140.82.113.3\n",
            "Connecting to github.com (github.com)|140.82.113.3|:443... connected.\n",
            "HTTP request sent, awaiting response... 200 OK\n",
            "Length: unspecified [text/html]\n",
            "Saving to: ‘Dataset.zip’\n",
            "\n",
            "\rDataset.zip             [<=>                 ]       0  --.-KB/s               \rDataset.zip             [ <=>                ]  77.70K  --.-KB/s    in 0.03s   \n",
            "\n",
            "2020-07-27 06:12:01 (2.57 MB/s) - ‘Dataset.zip’ saved [79564]\n",
            "\n"
          ],
          "name": "stdout"
        }
      ]
    },
    {
      "cell_type": "code",
      "metadata": {
        "id": "4_PIEyX4Ge-W",
        "colab_type": "code",
        "colab": {
          "base_uri": "https://localhost:8080/",
          "height": 723
        },
        "outputId": "518aa1ff-60bd-463c-859c-cf5eedebc42c"
      },
      "source": [
        " import zipfile\n",
        " \n",
        "zip_ref = zipfile.ZipFile(\"/content/Dataset.zip\", 'r')\n",
        "zip_ref.extractall()"
      ],
      "execution_count": null,
      "outputs": [
        {
          "output_type": "error",
          "ename": "BadZipFile",
          "evalue": "ignored",
          "traceback": [
            "\u001b[0;31m---------------------------------------------------------------------------\u001b[0m",
            "\u001b[0;31mBadZipFile\u001b[0m                                Traceback (most recent call last)",
            "\u001b[0;32m<ipython-input-3-807a03cb73af>\u001b[0m in \u001b[0;36m<module>\u001b[0;34m()\u001b[0m\n\u001b[1;32m      1\u001b[0m \u001b[0;32mimport\u001b[0m \u001b[0mzipfile\u001b[0m\u001b[0;34m\u001b[0m\u001b[0;34m\u001b[0m\u001b[0m\n\u001b[1;32m      2\u001b[0m \u001b[0;34m\u001b[0m\u001b[0m\n\u001b[0;32m----> 3\u001b[0;31m \u001b[0mzip_ref\u001b[0m \u001b[0;34m=\u001b[0m \u001b[0mzipfile\u001b[0m\u001b[0;34m.\u001b[0m\u001b[0mZipFile\u001b[0m\u001b[0;34m(\u001b[0m\u001b[0;34m\"/content/Dataset.zip\"\u001b[0m\u001b[0;34m,\u001b[0m \u001b[0;34m'r'\u001b[0m\u001b[0;34m)\u001b[0m\u001b[0;34m\u001b[0m\u001b[0;34m\u001b[0m\u001b[0m\n\u001b[0m\u001b[1;32m      4\u001b[0m \u001b[0mzip_ref\u001b[0m\u001b[0;34m.\u001b[0m\u001b[0mextractall\u001b[0m\u001b[0;34m(\u001b[0m\u001b[0;34m)\u001b[0m\u001b[0;34m\u001b[0m\u001b[0;34m\u001b[0m\u001b[0m\n",
            "\u001b[0;32m/usr/lib/python3.6/zipfile.py\u001b[0m in \u001b[0;36m__init__\u001b[0;34m(self, file, mode, compression, allowZip64)\u001b[0m\n\u001b[1;32m   1129\u001b[0m         \u001b[0;32mtry\u001b[0m\u001b[0;34m:\u001b[0m\u001b[0;34m\u001b[0m\u001b[0;34m\u001b[0m\u001b[0m\n\u001b[1;32m   1130\u001b[0m             \u001b[0;32mif\u001b[0m \u001b[0mmode\u001b[0m \u001b[0;34m==\u001b[0m \u001b[0;34m'r'\u001b[0m\u001b[0;34m:\u001b[0m\u001b[0;34m\u001b[0m\u001b[0;34m\u001b[0m\u001b[0m\n\u001b[0;32m-> 1131\u001b[0;31m                 \u001b[0mself\u001b[0m\u001b[0;34m.\u001b[0m\u001b[0m_RealGetContents\u001b[0m\u001b[0;34m(\u001b[0m\u001b[0;34m)\u001b[0m\u001b[0;34m\u001b[0m\u001b[0;34m\u001b[0m\u001b[0m\n\u001b[0m\u001b[1;32m   1132\u001b[0m             \u001b[0;32melif\u001b[0m \u001b[0mmode\u001b[0m \u001b[0;32min\u001b[0m \u001b[0;34m(\u001b[0m\u001b[0;34m'w'\u001b[0m\u001b[0;34m,\u001b[0m \u001b[0;34m'x'\u001b[0m\u001b[0;34m)\u001b[0m\u001b[0;34m:\u001b[0m\u001b[0;34m\u001b[0m\u001b[0;34m\u001b[0m\u001b[0m\n\u001b[1;32m   1133\u001b[0m                 \u001b[0;31m# set the modified flag so central directory gets written\u001b[0m\u001b[0;34m\u001b[0m\u001b[0;34m\u001b[0m\u001b[0;34m\u001b[0m\u001b[0m\n",
            "\u001b[0;32m/usr/lib/python3.6/zipfile.py\u001b[0m in \u001b[0;36m_RealGetContents\u001b[0;34m(self)\u001b[0m\n\u001b[1;32m   1196\u001b[0m             \u001b[0;32mraise\u001b[0m \u001b[0mBadZipFile\u001b[0m\u001b[0;34m(\u001b[0m\u001b[0;34m\"File is not a zip file\"\u001b[0m\u001b[0;34m)\u001b[0m\u001b[0;34m\u001b[0m\u001b[0;34m\u001b[0m\u001b[0m\n\u001b[1;32m   1197\u001b[0m         \u001b[0;32mif\u001b[0m \u001b[0;32mnot\u001b[0m \u001b[0mendrec\u001b[0m\u001b[0;34m:\u001b[0m\u001b[0;34m\u001b[0m\u001b[0;34m\u001b[0m\u001b[0m\n\u001b[0;32m-> 1198\u001b[0;31m             \u001b[0;32mraise\u001b[0m \u001b[0mBadZipFile\u001b[0m\u001b[0;34m(\u001b[0m\u001b[0;34m\"File is not a zip file\"\u001b[0m\u001b[0;34m)\u001b[0m\u001b[0;34m\u001b[0m\u001b[0;34m\u001b[0m\u001b[0m\n\u001b[0m\u001b[1;32m   1199\u001b[0m         \u001b[0;32mif\u001b[0m \u001b[0mself\u001b[0m\u001b[0;34m.\u001b[0m\u001b[0mdebug\u001b[0m \u001b[0;34m>\u001b[0m \u001b[0;36m1\u001b[0m\u001b[0;34m:\u001b[0m\u001b[0;34m\u001b[0m\u001b[0;34m\u001b[0m\u001b[0m\n\u001b[1;32m   1200\u001b[0m             \u001b[0mprint\u001b[0m\u001b[0;34m(\u001b[0m\u001b[0mendrec\u001b[0m\u001b[0;34m)\u001b[0m\u001b[0;34m\u001b[0m\u001b[0;34m\u001b[0m\u001b[0m\n",
            "\u001b[0;31mBadZipFile\u001b[0m: File is not a zip file"
          ]
        }
      ]
    },
    {
      "cell_type": "code",
      "metadata": {
        "id": "skFT_PBZHp0k",
        "colab_type": "code",
        "colab": {
          "base_uri": "https://localhost:8080/",
          "height": 1000
        },
        "outputId": "f9354994-bab9-4356-adad-e891591400f8"
      },
      "source": [
        " from keras.layers import Input, Lambda, Dense, Flatten\n",
        "from keras.models import Model\n",
        "#from keras.applications.vgg16 import VGG16\n",
        "from keras.applications.vgg19 import VGG19\n",
        "from keras.applications.vgg16 import preprocess_input\n",
        "from keras.preprocessing import image\n",
        "from keras.preprocessing.image import ImageDataGenerator\n",
        "from keras.models import Sequential\n",
        "import numpy as np\n",
        "from glob import glob\n",
        "import matplotlib.pyplot as plt\n",
        " \n",
        "# re-size all the images to this\n",
        "IMAGE_SIZE = [224, 224]\n",
        " \n",
        "train_path = '/content/Dataset/Train'\n",
        "valid_path = '/content/Dataset/Test'\n",
        " \n",
        "# add preprocessing layer to the front of VGG\n",
        "vgg = VGG19(input_shape=IMAGE_SIZE + [3], weights='imagenet', include_top=False)\n",
        " \n",
        "# don't train existing weights\n",
        "for layer in vgg.layers:\n",
        "  layer.trainable = False\n",
        "  \n",
        " \n",
        "  \n",
        "  # useful for getting number of classes\n",
        "folders = glob('/content/Dataset/Train/*')\n",
        "  \n",
        " \n",
        "# our layers - you can add more if you want\n",
        "x = Flatten()(vgg.output)\n",
        "# x = Dense(1000, activation='relu')(x)\n",
        "prediction = Dense(len(folders), activation='softmax')(x)\n",
        " \n",
        "# create a model object\n",
        "model = Model(inputs=vgg.input, outputs=prediction)\n",
        " \n",
        "# view the structure of the model\n",
        "model.summary()\n",
        " \n",
        "# tell the model what cost and optimization method to use\n",
        "model.compile(\n",
        "  loss='categorical_crossentropy',\n",
        "  optimizer='adam',\n",
        "  metrics=['accuracy']\n",
        ")\n",
        " \n",
        " \n",
        "# Use the Image Data Generator to import the images from the dataset\n",
        "from keras.preprocessing.image import ImageDataGenerator\n",
        " \n",
        "train_datagen = ImageDataGenerator(rescale = 1./255,\n",
        "                                   shear_range = 0.2,\n",
        "                                   zoom_range = 0.2,\n",
        "                                   horizontal_flip = True)\n",
        " \n",
        "test_datagen = ImageDataGenerator(rescale = 1./255)\n",
        " \n",
        "training_set = train_datagen.flow_from_directory('/content/Dataset/Train',\n",
        "                                                 target_size = (224, 224),\n",
        "                                                 batch_size = 32,\n",
        "                                                 class_mode = 'categorical')\n",
        " \n",
        "test_set = test_datagen.flow_from_directory('/content/Dataset/Test',\n",
        "                                            target_size = (224, 224),\n",
        "                                            batch_size = 32,\n",
        "                                            class_mode = 'categorical')\n",
        " \n",
        " \n",
        "# fit the model\n",
        "r = model.fit_generator(\n",
        "  training_set,\n",
        "  validation_data=test_set,\n",
        "  epochs=5,\n",
        "  steps_per_epoch=len(training_set),\n",
        "  validation_steps=len(test_set)\n",
        ")\n",
        "# loss\n",
        "plt.plot(r.history['loss'], label='train loss')\n",
        "plt.plot(r.history['val_loss'], label='val loss')\n",
        "plt.legend()\n",
        "plt.show()\n",
        "plt.savefig('LossVal_loss')\n",
        " \n",
        "# accuracies\n",
        "plt.plot(r.history['acc'], label='train acc')\n",
        "plt.plot(r.history['val_acc'], label='val acc')\n",
        "plt.legend()\n",
        "plt.show()\n",
        "plt.savefig('AccVal_acc')\n",
        " \n",
        "import tensorflow as tf\n",
        " \n",
        "from keras.models import load_model\n",
        " \n",
        "model.save('model_vgg19.h5')"
      ],
      "execution_count": null,
      "outputs": [
        {
          "output_type": "stream",
          "text": [
            "Model: \"model_4\"\n",
            "_________________________________________________________________\n",
            "Layer (type)                 Output Shape              Param #   \n",
            "=================================================================\n",
            "input_4 (InputLayer)         (None, 224, 224, 3)       0         \n",
            "_________________________________________________________________\n",
            "block1_conv1 (Conv2D)        (None, 224, 224, 64)      1792      \n",
            "_________________________________________________________________\n",
            "block1_conv2 (Conv2D)        (None, 224, 224, 64)      36928     \n",
            "_________________________________________________________________\n",
            "block1_pool (MaxPooling2D)   (None, 112, 112, 64)      0         \n",
            "_________________________________________________________________\n",
            "block2_conv1 (Conv2D)        (None, 112, 112, 128)     73856     \n",
            "_________________________________________________________________\n",
            "block2_conv2 (Conv2D)        (None, 112, 112, 128)     147584    \n",
            "_________________________________________________________________\n",
            "block2_pool (MaxPooling2D)   (None, 56, 56, 128)       0         \n",
            "_________________________________________________________________\n",
            "block3_conv1 (Conv2D)        (None, 56, 56, 256)       295168    \n",
            "_________________________________________________________________\n",
            "block3_conv2 (Conv2D)        (None, 56, 56, 256)       590080    \n",
            "_________________________________________________________________\n",
            "block3_conv3 (Conv2D)        (None, 56, 56, 256)       590080    \n",
            "_________________________________________________________________\n",
            "block3_conv4 (Conv2D)        (None, 56, 56, 256)       590080    \n",
            "_________________________________________________________________\n",
            "block3_pool (MaxPooling2D)   (None, 28, 28, 256)       0         \n",
            "_________________________________________________________________\n",
            "block4_conv1 (Conv2D)        (None, 28, 28, 512)       1180160   \n",
            "_________________________________________________________________\n",
            "block4_conv2 (Conv2D)        (None, 28, 28, 512)       2359808   \n",
            "_________________________________________________________________\n",
            "block4_conv3 (Conv2D)        (None, 28, 28, 512)       2359808   \n",
            "_________________________________________________________________\n",
            "block4_conv4 (Conv2D)        (None, 28, 28, 512)       2359808   \n",
            "_________________________________________________________________\n",
            "block4_pool (MaxPooling2D)   (None, 14, 14, 512)       0         \n",
            "_________________________________________________________________\n",
            "block5_conv1 (Conv2D)        (None, 14, 14, 512)       2359808   \n",
            "_________________________________________________________________\n",
            "block5_conv2 (Conv2D)        (None, 14, 14, 512)       2359808   \n",
            "_________________________________________________________________\n",
            "block5_conv3 (Conv2D)        (None, 14, 14, 512)       2359808   \n",
            "_________________________________________________________________\n",
            "block5_conv4 (Conv2D)        (None, 14, 14, 512)       2359808   \n",
            "_________________________________________________________________\n",
            "block5_pool (MaxPooling2D)   (None, 7, 7, 512)         0         \n",
            "_________________________________________________________________\n",
            "flatten_4 (Flatten)          (None, 25088)             0         \n",
            "_________________________________________________________________\n",
            "dense_4 (Dense)              (None, 2)                 50178     \n",
            "=================================================================\n",
            "Total params: 20,074,562\n",
            "Trainable params: 50,178\n",
            "Non-trainable params: 20,024,384\n",
            "_________________________________________________________________\n",
            "Found 416 images belonging to 2 classes.\n",
            "Found 134 images belonging to 2 classes.\n",
            "Epoch 1/5\n",
            "13/13 [==============================] - 356s 27s/step - loss: 1.8307 - accuracy: 0.5192 - val_loss: 0.0212 - val_accuracy: 0.6791\n",
            "Epoch 2/5\n",
            "13/13 [==============================] - 349s 27s/step - loss: 0.8383 - accuracy: 0.6034 - val_loss: 0.3671 - val_accuracy: 0.7239\n",
            "Epoch 3/5\n",
            "13/13 [==============================] - 347s 27s/step - loss: 0.5073 - accuracy: 0.7548 - val_loss: 0.3310 - val_accuracy: 0.6716\n",
            "Epoch 4/5\n",
            "13/13 [==============================] - 351s 27s/step - loss: 0.3637 - accuracy: 0.8389 - val_loss: 0.6352 - val_accuracy: 0.7612\n",
            "Epoch 5/5\n",
            "13/13 [==============================] - 348s 27s/step - loss: 0.3564 - accuracy: 0.8558 - val_loss: 0.6401 - val_accuracy: 0.7761\n"
          ],
          "name": "stdout"
        },
        {
          "output_type": "display_data",
          "data": {
            "image/png": "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\n",
            "text/plain": [
              "<Figure size 432x288 with 1 Axes>"
            ]
          },
          "metadata": {
            "tags": [],
            "needs_background": "light"
          }
        },
        {
          "output_type": "error",
          "ename": "KeyError",
          "evalue": "ignored",
          "traceback": [
            "\u001b[0;31m---------------------------------------------------------------------------\u001b[0m",
            "\u001b[0;31mKeyError\u001b[0m                                  Traceback (most recent call last)",
            "\u001b[0;32m<ipython-input-16-016277441945>\u001b[0m in \u001b[0;36m<module>\u001b[0;34m()\u001b[0m\n\u001b[1;32m     86\u001b[0m \u001b[0;34m\u001b[0m\u001b[0m\n\u001b[1;32m     87\u001b[0m \u001b[0;31m# accuracies\u001b[0m\u001b[0;34m\u001b[0m\u001b[0;34m\u001b[0m\u001b[0;34m\u001b[0m\u001b[0m\n\u001b[0;32m---> 88\u001b[0;31m \u001b[0mplt\u001b[0m\u001b[0;34m.\u001b[0m\u001b[0mplot\u001b[0m\u001b[0;34m(\u001b[0m\u001b[0mr\u001b[0m\u001b[0;34m.\u001b[0m\u001b[0mhistory\u001b[0m\u001b[0;34m[\u001b[0m\u001b[0;34m'acc'\u001b[0m\u001b[0;34m]\u001b[0m\u001b[0;34m,\u001b[0m \u001b[0mlabel\u001b[0m\u001b[0;34m=\u001b[0m\u001b[0;34m'train acc'\u001b[0m\u001b[0;34m)\u001b[0m\u001b[0;34m\u001b[0m\u001b[0;34m\u001b[0m\u001b[0m\n\u001b[0m\u001b[1;32m     89\u001b[0m \u001b[0mplt\u001b[0m\u001b[0;34m.\u001b[0m\u001b[0mplot\u001b[0m\u001b[0;34m(\u001b[0m\u001b[0mr\u001b[0m\u001b[0;34m.\u001b[0m\u001b[0mhistory\u001b[0m\u001b[0;34m[\u001b[0m\u001b[0;34m'val_acc'\u001b[0m\u001b[0;34m]\u001b[0m\u001b[0;34m,\u001b[0m \u001b[0mlabel\u001b[0m\u001b[0;34m=\u001b[0m\u001b[0;34m'val acc'\u001b[0m\u001b[0;34m)\u001b[0m\u001b[0;34m\u001b[0m\u001b[0;34m\u001b[0m\u001b[0m\n\u001b[1;32m     90\u001b[0m \u001b[0mplt\u001b[0m\u001b[0;34m.\u001b[0m\u001b[0mlegend\u001b[0m\u001b[0;34m(\u001b[0m\u001b[0;34m)\u001b[0m\u001b[0;34m\u001b[0m\u001b[0;34m\u001b[0m\u001b[0m\n",
            "\u001b[0;31mKeyError\u001b[0m: 'acc'"
          ]
        },
        {
          "output_type": "display_data",
          "data": {
            "text/plain": [
              "<Figure size 432x288 with 0 Axes>"
            ]
          },
          "metadata": {
            "tags": []
          }
        }
      ]
    },
    {
      "cell_type": "code",
      "metadata": {
        "id": "QL6rw3FOOBpC",
        "colab_type": "code",
        "colab": {
          "base_uri": "https://localhost:8080/",
          "height": 422
        },
        "outputId": "4d943bfa-a481-4dee-d97f-91678fdcd378"
      },
      "source": [
        "MODEL_PATH ='model_vgg19.h5'\n",
        " \n",
        "# Load your trained model\n",
        "model = load_model(MODEL_PATH)\n",
        " \n",
        " \n",
        "def model_predict(img_path, model):\n",
        "    img = image.load_img(img_path, target_size=(224, 224))\n",
        " \n",
        "    # Preprocessing the image\n",
        "    x = image.img_to_array(img)\n",
        "    # x = np.true_divide(x, 255)\n",
        "    ## Scaling\n",
        "    x=x/255\n",
        "    x = np.expand_dims(x, axis=0)\n",
        "   \n",
        " \n",
        "    # Be careful how your trained model deals with the input\n",
        "    # otherwise, it won't make correct prediction!\n",
        "    x = preprocess_input(x)\n",
        " \n",
        "    preds = model.predict(x)\n",
        "    preds=np.argmax(preds, axis=1)\n",
        "    if preds==0:\n",
        "        preds=\"The Person is Infected With Pneumonia\"\n",
        "    else:\n",
        "        preds=\"The Person is not Infected With Pneumonia\"\n",
        "    \n",
        "    \n",
        "    return preds"
      ],
      "execution_count": null,
      "outputs": [
        {
          "output_type": "error",
          "ename": "NameError",
          "evalue": "ignored",
          "traceback": [
            "\u001b[0;31m---------------------------------------------------------------------------\u001b[0m",
            "\u001b[0;31mNameError\u001b[0m                                 Traceback (most recent call last)",
            "\u001b[0;32m<ipython-input-1-053acdaea515>\u001b[0m in \u001b[0;36m<module>\u001b[0;34m()\u001b[0m\n\u001b[1;32m      2\u001b[0m \u001b[0;34m\u001b[0m\u001b[0m\n\u001b[1;32m      3\u001b[0m \u001b[0;31m# Load your trained model\u001b[0m\u001b[0;34m\u001b[0m\u001b[0;34m\u001b[0m\u001b[0;34m\u001b[0m\u001b[0m\n\u001b[0;32m----> 4\u001b[0;31m \u001b[0mmodel\u001b[0m \u001b[0;34m=\u001b[0m \u001b[0mload_model\u001b[0m\u001b[0;34m(\u001b[0m\u001b[0mMODEL_PATH\u001b[0m\u001b[0;34m)\u001b[0m\u001b[0;34m\u001b[0m\u001b[0;34m\u001b[0m\u001b[0m\n\u001b[0m\u001b[1;32m      5\u001b[0m \u001b[0;34m\u001b[0m\u001b[0m\n\u001b[1;32m      6\u001b[0m \u001b[0;34m\u001b[0m\u001b[0m\n",
            "\u001b[0;31mNameError\u001b[0m: name 'load_model' is not defined"
          ]
        }
      ]
    },
    {
      "cell_type": "code",
      "metadata": {
        "id": "73phLMZbOo3H",
        "colab_type": "code",
        "colab": {}
      },
      "source": [
        "model_predict('/content/Dataset/Test/Parasite/C39P4thinF_original_IMG_20150622_105554_cell_10.png',model)"
      ],
      "execution_count": null,
      "outputs": []
    }
  ]
}
